{
 "cells": [
  {
   "cell_type": "code",
   "execution_count": 1,
   "metadata": {},
   "outputs": [],
   "source": [
    "import json\n",
    "%matplotlib inline\n",
    "import matplotlib.pyplot as plt\n",
    "import numpy as np\n",
    "import subprocess"
   ]
  },
  {
   "cell_type": "code",
   "execution_count": 40,
   "metadata": {},
   "outputs": [
    {
     "name": "stdout",
     "output_type": "stream",
     "text": [
      "Completed in 0.173212353 seconds\n"
     ]
    }
   ],
   "source": [
    "inp = {\n",
    "    'grid_params': {\n",
    "        'block_size': 256,\n",
    "        'grid_size': 256,\n",
    "    },\n",
    "    'run': {\n",
    "        'seed': 12345,\n",
    "        'energy': 100, # MeV\n",
    "        'num_tracks': 256 * 256,\n",
    "        'max_steps': 1, # XXX FOR USE WITH HACKED VERSION\n",
    "        'tally_grid': {\n",
    "            'size': 256*256,\n",
    "            'front': 0,\n",
    "            'delta': 0.0001,\n",
    "        }\n",
    "    }\n",
    "}\n",
    "\n",
    "results = subprocess.check_output([\n",
    "    \"ssh\", \"emmet\", \"~/.local/src/celeritas/build-opt/app/demo-interactor\", \"-\"],\n",
    "    input=json.dumps(inp).encode())\n",
    "results = json.loads(results.decode())\n",
    "print(\"Completed in\", results['result']['total_time'], \"seconds\")"
   ]
  },
  {
   "cell_type": "code",
   "execution_count": 41,
   "metadata": {},
   "outputs": [],
   "source": [
    "tally = results['run']['tally_grid']\n",
    "grid = np.arange(tally['size'] + 1) * tally['delta'] + tally['front']"
   ]
  },
  {
   "cell_type": "code",
   "execution_count": 50,
   "metadata": {},
   "outputs": [],
   "source": [
    "!open ."
   ]
  },
  {
   "cell_type": "code",
   "execution_count": 54,
   "metadata": {},
   "outputs": [],
   "source": [
    "with open(\"../tables/LambdaPrim.compt.gamma.json\") as f:\n",
    "    ref = json.load(f)['physics_vector']\n",
    "ref_e = np.array(ref['energy'])\n",
    "ref_xs = np.array(ref['xs_eloss'])"
   ]
  },
  {
   "cell_type": "code",
   "execution_count": 60,
   "metadata": {},
   "outputs": [
    {
     "data": {
      "text/plain": [
       "0.65124075336"
      ]
     },
     "execution_count": 60,
     "metadata": {},
     "output_type": "execute_result"
    }
   ],
   "source": [
    "invmm_to_invcm = 10\n",
    "xs_value = ref_xs[np.where(ref_e == 100.0)][0] * invmm_to_invcm\n",
    "xs_value"
   ]
  },
  {
   "cell_type": "code",
   "execution_count": 61,
   "metadata": {},
   "outputs": [
    {
     "data": {
      "text/plain": [
       "Text(0, 0.5, 'Cumulative energy deposition / MeV')"
      ]
     },
     "execution_count": 61,
     "metadata": {},
     "output_type": "execute_result"
    },
    {
     "data": {
      "image/png": "[encoded data removed]",
      "text/plain": [
       "<Figure size 432x288 with 1 Axes>"
      ]
     },
     "metadata": {
      "needs_background": "light"
     },
     "output_type": "display_data"
    }
   ],
   "source": [
    "edep = np.cumsum(results['result']['edep'])\n",
    "(fig, ax) = plt.subplots()\n",
    "ax.plot(grid[:-1], edep, drawstyle='steps-post')\n",
    "ax.plot(grid, (1 - np.exp(-xs_value * grid)), color='r')\n",
    "ax.set_xlabel('z / cm')\n",
    "ax.set_ylabel('Cumulative energy deposition / MeV')"
   ]
  },
  {
   "cell_type": "code",
   "execution_count": null,
   "metadata": {},
   "outputs": [],
   "source": [
    "plt.plot(results['result']['alive'], '.');"
   ]
  },
  {
   "cell_type": "code",
   "execution_count": null,
   "metadata": {},
   "outputs": [],
   "source": [
    "plt.plot(results['result']['time'], '.');"
   ]
  },
  {
   "cell_type": "code",
   "execution_count": null,
   "metadata": {},
   "outputs": [],
   "source": []
  }
 ],
 "metadata": {
  "kernelspec": {
   "display_name": "Python 3",
   "language": "python",
   "name": "python3"
  },
  "language_info": {
   "codemirror_mode": {
    "name": "ipython",
    "version": 3
   },
   "file_extension": ".py",
   "mimetype": "text/x-python",
   "name": "python",
   "nbconvert_exporter": "python",
   "pygments_lexer": "ipython3",
   "version": "3.7.3"
  }
 },
 "nbformat": 4,
 "nbformat_minor": 4
}
