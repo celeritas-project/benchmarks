{
 "metadata": {
  "language_info": {
   "codemirror_mode": {
    "name": "ipython",
    "version": 3
   },
   "file_extension": ".py",
   "mimetype": "text/x-python",
   "name": "python",
   "nbconvert_exporter": "python",
   "pygments_lexer": "ipython3",
   "version": "3.7.6-final"
  },
  "orig_nbformat": 2,
  "kernelspec": {
   "name": "python3",
   "display_name": "Python 3"
  }
 },
 "nbformat": 4,
 "nbformat_minor": 2,
 "cells": [
  {
   "cell_type": "code",
   "execution_count": null,
   "metadata": {},
   "outputs": [],
   "source": [
    "import json"
   ]
  },
  {
   "cell_type": "code",
   "execution_count": null,
   "metadata": {},
   "outputs": [],
   "source": [
    "from pathlib import Path\n",
    "import os\n",
    "import sys\n",
    "import collections"
   ]
  },
  {
   "cell_type": "code",
   "execution_count": null,
   "metadata": {
    "tags": []
   },
   "outputs": [],
   "source": [
    "import matplotlib.pyplot as plt\n",
    "import numpy as np"
   ]
  },
  {
   "source": [
    "# KN-Interactor Analysis\n",
    "\n",
    "**CPU vs GPU Comparisons**\n",
    "\n",
    "*Tom Evans, 10/20/2020*\n",
    "\n",
    "Run cases:\n",
    "* constant numbers of tracks that runs multiple tracks per thread\n",
    "* setting $N_t = G_s\\times B_s$ so that there is only 1 track per thread\n",
    "\n",
    "To execute cases do\n",
    "```\n",
    "python driver.py\n",
    "```\n"
   ],
   "cell_type": "markdown",
   "metadata": {}
  },
  {
   "source": [
    "home=Path('/home/9te/celeritas/kn-interactor')"
   ],
   "cell_type": "code",
   "metadata": {},
   "execution_count": null,
   "outputs": []
  },
  {
   "source": [
    "## Load Data"
   ],
   "cell_type": "markdown",
   "metadata": {}
  },
  {
   "source": [
    "gpu_c = collections.defaultdict(list)\n",
    "gpu = collections.defaultdict(list)\n",
    "\n",
    "for f in home.glob(\"track*.json\"):\n",
    "    with open(f, 'r') as out:\n",
    "        d = json.load(out)\n",
    "\n",
    "    gs = d['grid_params']['grid_size']\n",
    "    times = np.asarray(d['result']['time'])\n",
    "    time = d['result']['total_time']\n",
    "    kt = np.sum(times) / time\n",
    "    tracks = d['run']['num_tracks']\n",
    "\n",
    "    if 'const' in f.stem:\n",
    "        gpu_c['grid_size'].append(gs)\n",
    "        gpu_c['total_time'].append(time)\n",
    "        gpu_c['trans_time'].append(kt*time)\n",
    "        gpu_c['kernel_frac'].append(kt)\n",
    "        gpu_c['num_tracks'].append(tracks)\n",
    "    else:\n",
    "        gpu['grid_size'].append(gs)\n",
    "        gpu['total_time'].append(time)\n",
    "        gpu['trans_time'].append(kt*time)\n",
    "        gpu['kernel_frac'].append(kt)\n",
    "        gpu['num_tracks'].append(tracks)"
   ],
   "cell_type": "code",
   "metadata": {
    "tags": []
   },
   "execution_count": null,
   "outputs": []
  },
  {
   "cell_type": "code",
   "execution_count": null,
   "metadata": {},
   "outputs": [],
   "source": [
    "cpu = collections.defaultdict(list)\n",
    "\n",
    "for f in home.glob(\"host*.json\"):\n",
    "    with open(f, 'r') as out:\n",
    "        d = json.load(out)\n",
    "\n",
    "    times = np.asarray(d['result']['time'])\n",
    "    time = d['result']['total_time']\n",
    "    rt = np.sum(times) / time\n",
    "    tracks = d['run']['num_tracks']\n",
    "\n",
    "    cpu['total_time'].append(time)\n",
    "    cpu['trans_time'].append(rt*time)\n",
    "    cpu['trans_frac'].append(rt)\n",
    "    cpu['num_tracks'].append(tracks)    "
   ]
  },
  {
   "source": [
    "## Comparison GPU v CPU times"
   ],
   "cell_type": "markdown",
   "metadata": {}
  },
  {
   "cell_type": "code",
   "execution_count": null,
   "metadata": {},
   "outputs": [],
   "source": [
    "gi = np.argsort(gpu['num_tracks'])\n",
    "ci = np.argsort(cpu['num_tracks'])\n",
    "\n",
    "gt = np.asarray(gpu['total_time'])[gi]\n",
    "ct = np.asarray(cpu['total_time'])[ci]\n",
    "\n",
    "gtt = np.asarray(gpu['trans_time'])[gi]\n",
    "ctt = np.asarray(cpu['trans_time'])[ci]\n",
    "\n",
    "ntracks = np.asarray(gpu['num_tracks'])[gi]"
   ]
  },
  {
   "cell_type": "code",
   "execution_count": null,
   "metadata": {},
   "outputs": [],
   "source": [
    "fig = plt.figure()\n",
    "ax = fig.add_subplot(111)\n",
    "\n",
    "ax.plot(ntracks, gt, marker='o', markeredgecolor='black', markeredgewidth='0.5', label = 'GPU total time')\n",
    "ax.plot(ntracks, gtt, marker='o', markeredgecolor='black', markeredgewidth='0.5', label = 'GPU transport time')\n",
    "ax.grid()\n",
    "\n",
    "ax.set_ylabel(\"$t$ (sec)\")\n",
    "ax.set_xlabel('tracks ($\\\\times 10^6$)')\n",
    "\n",
    "ticks = ax.get_xticks() * 1e-6\n",
    "ax.set_xticklabels(ticks)\n",
    "\n",
    "ax.legend()\n",
    "\n",
    "fig.tight_layout()\n",
    "fig.savefig('gpu-runtime.pdf')"
   ]
  },
  {
   "cell_type": "code",
   "execution_count": null,
   "metadata": {},
   "outputs": [],
   "source": [
    "fig = plt.figure()\n",
    "ax = fig.add_subplot(111)\n",
    "\n",
    "ax.plot(ntracks, ct, marker='o', markeredgecolor='black', markeredgewidth='0.5', label = 'CPU total time')\n",
    "ax.plot(ntracks, ctt, marker='o', markeredgecolor='black', markeredgewidth='0.5', label = 'CPU transport time')\n",
    "ax.grid()\n",
    "\n",
    "ax.set_ylabel(\"$t$ (sec)\")\n",
    "ax.set_xlabel('tracks ($\\\\times 10^6$)')\n",
    "\n",
    "ticks = ax.get_xticks() * 1e-6\n",
    "ax.set_xticklabels(ticks)\n",
    "\n",
    "ax.legend()\n",
    "\n",
    "fig.tight_layout()\n",
    "fig.savefig('cpu-runtime.pdf')"
   ]
  },
  {
   "cell_type": "code",
   "execution_count": null,
   "metadata": {},
   "outputs": [],
   "source": [
    "fig = plt.figure()\n",
    "ax = fig.add_subplot(111)\n",
    "\n",
    "ax.plot(ntracks, gtt, marker='o', markeredgecolor='black', markeredgewidth='0.5', label = 'GPU transport time')\n",
    "ax.plot(ntracks, gt, marker='o', markeredgecolor='black', markeredgewidth='0.5', label = 'GPU total time')\n",
    "ax.plot(ntracks, ctt, marker='o', markeredgecolor='black', markeredgewidth='0.5', label = 'CPU transport time')\n",
    "ax.grid()\n",
    "\n",
    "ax.set_yscale('log')\n",
    "ax.set_xscale('log')\n",
    "\n",
    "ax.set_ylabel(\"$t$ (sec)\")\n",
    "ax.set_xlabel('tracks')\n",
    "\n",
    "#ticks = ax.get_xticks() * 1e-6\n",
    "#ax.set_xticklabels(ticks)\n",
    "\n",
    "ax.legend()\n",
    "\n",
    "fig.tight_layout()\n",
    "fig.savefig('cpu_v_gpu.pdf')"
   ]
  },
  {
   "cell_type": "code",
   "execution_count": null,
   "metadata": {},
   "outputs": [],
   "source": []
  }
 ]
}